{
 "cells": [
  {
   "cell_type": "code",
   "execution_count": 71,
   "metadata": {},
   "outputs": [],
   "source": [
    "import numpy as np\n",
    "import pandas as pd\n",
    "#from sklearn import neighbors\n",
    "#from sklearn.model_selection import train_test_split\n",
    "\n",
    "import neighbors"
   ]
  },
  {
   "cell_type": "code",
   "execution_count": 72,
   "metadata": {},
   "outputs": [],
   "source": [
    "def train_test_split(*arrays, test_size=.25):\n",
    "  length = arrays[0].shape[0]\n",
    "\n",
    "  rng = np.random.default_rng()\n",
    "\n",
    "  indices = np.arange(length)\n",
    "  rng.shuffle(indices)\n",
    "\n",
    "  test_numbers = int(test_size * length)\n",
    "\n",
    "  test_indices = indices[:test_numbers]\n",
    "  train_indices = indices[test_numbers:]\n",
    "\n",
    "  splitting = []\n",
    "  for arr in arrays:\n",
    "    splitting.extend([arr[train_indices], arr[test_indices]])\n",
    "\n",
    "  return splitting"
   ]
  },
  {
   "cell_type": "code",
   "execution_count": 73,
   "metadata": {},
   "outputs": [],
   "source": [
    "# For your assignment, you have implement function \"train_test_split\" and\n",
    "# module \"neighbors\" on your own. This means you will have to make the code working\n",
    "# without any modification in cells 2-6\n",
    "\n",
    "df = pd.read_csv('breast-cancer-wisconsin.csv')\n",
    "df.replace('?', -99999, inplace=True)\n",
    "df.drop(['id'], axis=1, inplace=True)\n",
    "\n",
    "x = np.array(df.drop(['class'], axis=1))\n",
    "y = np.array(df['class'])"
   ]
  },
  {
   "cell_type": "code",
   "execution_count": 74,
   "metadata": {},
   "outputs": [],
   "source": [
    "x_train, x_test, y_train, y_test = train_test_split(x, y, test_size=0.2)"
   ]
  },
  {
   "cell_type": "code",
   "execution_count": 75,
   "metadata": {},
   "outputs": [
    {
     "data": {
      "text/plain": [
       "<neighbors.KNeighborsClassifier at 0x74737e8732f0>"
      ]
     },
     "execution_count": 75,
     "metadata": {},
     "output_type": "execute_result"
    }
   ],
   "source": [
    "h = neighbors.KNeighborsClassifier(n_neighbors=7, p=2)\n",
    "h.fit(x_train, y_train)"
   ]
  },
  {
   "cell_type": "code",
   "execution_count": 76,
   "metadata": {},
   "outputs": [
    {
     "name": "stdout",
     "output_type": "stream",
     "text": [
      "4\n"
     ]
    }
   ],
   "source": [
    "new_x = np.array([4,6,5,6,7,8,4,9,1])\n",
    "result = h.predict(new_x.reshape(1, -1))\n",
    "print(result)"
   ]
  },
  {
   "cell_type": "code",
   "execution_count": 77,
   "metadata": {},
   "outputs": [
    {
     "name": "stdout",
     "output_type": "stream",
     "text": [
      "0.9640287769784173\n"
     ]
    }
   ],
   "source": [
    "print(h.score(x_test, y_test))"
   ]
  }
 ],
 "metadata": {
  "kernelspec": {
   "display_name": "Python 3",
   "language": "python",
   "name": "python3"
  },
  "language_info": {
   "codemirror_mode": {
    "name": "ipython",
    "version": 3
   },
   "file_extension": ".py",
   "mimetype": "text/x-python",
   "name": "python",
   "nbconvert_exporter": "python",
   "pygments_lexer": "ipython3",
   "version": "3.13.1"
  }
 },
 "nbformat": 4,
 "nbformat_minor": 4
}
